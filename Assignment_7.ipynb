{
 "cells": [
  {
   "cell_type": "code",
   "execution_count": null,
   "id": "541fc961-d876-4bc7-bd23-aea0460a5436",
   "metadata": {},
   "outputs": [],
   "source": [
    "1. What is the name of the feature responsible for generating Regex objects?"
   ]
  },
  {
   "cell_type": "code",
   "execution_count": null,
   "id": "0044ea41-d680-4bdb-9466-3b8c2ef098ae",
   "metadata": {},
   "outputs": [],
   "source": [
    "ans."
   ]
  },
  {
   "cell_type": "code",
   "execution_count": 1,
   "id": "a3f11d34-f089-4c1a-ae38-a3380a585150",
   "metadata": {},
   "outputs": [
    {
     "data": {
      "text/plain": [
       "re.compile(r'string', re.UNICODE)"
      ]
     },
     "execution_count": 1,
     "metadata": {},
     "output_type": "execute_result"
    }
   ],
   "source": [
    "import re\n",
    "re.compile(\"string\")\n",
    "#The re.compile() function returns Regex objects.\n",
    "     "
   ]
  },
  {
   "cell_type": "code",
   "execution_count": null,
   "id": "cbbfa866-bbde-4767-b1fd-37eeff63fb3b",
   "metadata": {},
   "outputs": [],
   "source": [
    "2. Why do raw strings often appear in Regex objects?"
   ]
  },
  {
   "cell_type": "code",
   "execution_count": null,
   "id": "d0c57631-9a1d-4e07-89de-3ed6a16bf7ba",
   "metadata": {},
   "outputs": [],
   "source": [
    "Ans . Raw strings are used so that backslashes do not have to be escaped"
   ]
  },
  {
   "cell_type": "code",
   "execution_count": null,
   "id": "82b23e9d-ad28-4cb2-879e-3e7caa4985c6",
   "metadata": {},
   "outputs": [],
   "source": [
    "3. What is the return value of the search() method?"
   ]
  },
  {
   "cell_type": "code",
   "execution_count": null,
   "id": "2b4196f2-481b-4ca9-8a0b-00d25514aad5",
   "metadata": {},
   "outputs": [],
   "source": [
    "The search() method searches a string for a specified value, and returns the position of the match.\n",
    "\n",
    "The search value can be string or a regular expression. This method returns -1 if no match is found"
   ]
  },
  {
   "cell_type": "code",
   "execution_count": null,
   "id": "c393ffd8-302f-47bf-bfee-921c837545c3",
   "metadata": {},
   "outputs": [],
   "source": [
    "4. From a Match item, how do you get the actual strings that match the pattern?"
   ]
  },
  {
   "cell_type": "code",
   "execution_count": null,
   "id": "b39a9909-c247-4736-989c-d939022d2245",
   "metadata": {},
   "outputs": [],
   "source": [
    "phoneNumRegex = re.compile(r'\\d\\d\\d-\\d\\d\\d-\\d\\d\\d\\d')\n",
    "mo = phoneNumRegex.search('My number is 345-444-4542.')\n",
    "print('Phone number is: ' + mo.group())\n",
    "#Calling matchingObject.group() will return the string.\n",
    "     "
   ]
  },
  {
   "cell_type": "code",
   "execution_count": null,
   "id": "e570eb23-bbe3-4ced-8fc2-779b27915807",
   "metadata": {},
   "outputs": [],
   "source": [
    "Phone number is: 345-444-4542"
   ]
  },
  {
   "cell_type": "code",
   "execution_count": null,
   "id": "3e83aa2b-a8e0-4354-b3e3-6f6983768131",
   "metadata": {},
   "outputs": [],
   "source": [
    "5. In the regex which created from the r&#39;(\\d\\d\\d)-(\\d\\d\\d-\\d\\d\\d\\d)&#39;, what does group zero cover?\n",
    "Group 2? Group 1?"
   ]
  },
  {
   "cell_type": "code",
   "execution_count": 2,
   "id": "685cf9bd-6f75-400e-94cf-372445460324",
   "metadata": {},
   "outputs": [
    {
     "data": {
      "text/plain": [
       "'345'"
      ]
     },
     "execution_count": 2,
     "metadata": {},
     "output_type": "execute_result"
    }
   ],
   "source": [
    "phoneNumRegex = re.compile(r'(\\d\\d\\d)-(\\d\\d\\d-\\d\\d\\d\\d)')\n",
    "mo = phoneNumRegex.search('My number is 345-444-4542.')\n",
    "mo.group(1)\n",
    "     \n"
   ]
  },
  {
   "cell_type": "code",
   "execution_count": 3,
   "id": "743b599b-723d-4bb5-a099-754e07d7ef50",
   "metadata": {},
   "outputs": [
    {
     "data": {
      "text/plain": [
       "'444-4542'"
      ]
     },
     "execution_count": 3,
     "metadata": {},
     "output_type": "execute_result"
    }
   ],
   "source": [
    "mo.group(2)\n",
    "\n",
    "     "
   ]
  },
  {
   "cell_type": "code",
   "execution_count": 4,
   "id": "db52102b-5e18-4a94-af1e-01ef4376d020",
   "metadata": {},
   "outputs": [
    {
     "data": {
      "text/plain": [
       "'345-444-4542'"
      ]
     },
     "execution_count": 4,
     "metadata": {},
     "output_type": "execute_result"
    }
   ],
   "source": [
    "mo.group(0)"
   ]
  },
  {
   "cell_type": "code",
   "execution_count": null,
   "id": "c41b2eb4-612f-4d73-b527-2b77720a8224",
   "metadata": {},
   "outputs": [],
   "source": [
    "6. In standard expression syntax, parentheses and intervals have distinct meanings. How can you tell\n",
    "a regex that you want it to fit real parentheses and periods?"
   ]
  },
  {
   "cell_type": "code",
   "execution_count": null,
   "id": "14340e40-c4ce-4fb0-b914-325c067162a8",
   "metadata": {},
   "outputs": [],
   "source": [
    "Ans. Periods and parentheses can be escaped with a backslash: ., (, and )."
   ]
  },
  {
   "cell_type": "code",
   "execution_count": null,
   "id": "6a57e0de-918e-4e70-ad10-4dd4827b4d34",
   "metadata": {},
   "outputs": [],
   "source": [
    "7. The findall() method returns a string list or a list of string tuples. What causes it to return one of\n",
    "the two options?"
   ]
  },
  {
   "cell_type": "code",
   "execution_count": null,
   "id": "d3fc983e-94a4-4ac6-a06d-329b4336a632",
   "metadata": {},
   "outputs": [],
   "source": [
    "Ans. If the regex has no groups, a list of strings is returned. If the regex has groups, a list of tuples of strings is\n",
    "\n",
    "returned."
   ]
  },
  {
   "cell_type": "code",
   "execution_count": null,
   "id": "97d5b0e9-678a-42e9-ba95-f8a27c0c4f49",
   "metadata": {},
   "outputs": [],
   "source": [
    "8. In standard expressions, what does the | character mean?"
   ]
  },
  {
   "cell_type": "code",
   "execution_count": null,
   "id": "a5c143ff-74f1-407e-b46d-c79aa47fbab7",
   "metadata": {},
   "outputs": [],
   "source": [
    "Ans. The | character is called a pipe. You can use it anywhere you want to match one of many expressions.\n",
    "\n",
    "For example, the regular expression r'Cricket|Soccer Sport' will match either 'Cricket' or 'Soccer Sport'.\n",
    "\n",
    "When both Cricket and Soccer Sport occur in the searched string, the first occurrence of matching text will be returned as the Match object.\n",
    "\n",
    "The | character signifies matching “either, or” between two groups"
   ]
  },
  {
   "cell_type": "code",
   "execution_count": 5,
   "id": "48f7945f-07bc-4ff8-bef5-91bc25c5c09b",
   "metadata": {},
   "outputs": [
    {
     "data": {
      "text/plain": [
       "'Cricket'"
      ]
     },
     "execution_count": 5,
     "metadata": {},
     "output_type": "execute_result"
    }
   ],
   "source": [
    "\n",
    "\n",
    "SportRegex = re.compile (r'Cricket|Soccer Sport')\n",
    "s1 = SportRegex.search('Cricket and Soccer Sport')\n",
    "s1.group()\n",
    "     "
   ]
  },
  {
   "cell_type": "code",
   "execution_count": 6,
   "id": "54f9cbb8-859b-471a-8f43-ec8d024c3e05",
   "metadata": {},
   "outputs": [
    {
     "data": {
      "text/plain": [
       "'Soccer Sport'"
      ]
     },
     "execution_count": 6,
     "metadata": {},
     "output_type": "execute_result"
    }
   ],
   "source": [
    "s2 = SportRegex.search('Soccer Sport and Cricket')\n",
    "s2.group()\n",
    "\n",
    "     "
   ]
  },
  {
   "cell_type": "code",
   "execution_count": null,
   "id": "55bc2b71-fc41-4895-a3ce-6263595b84a4",
   "metadata": {},
   "outputs": [],
   "source": [
    "9. In regular expressions, what does the character stand for?"
   ]
  },
  {
   "cell_type": "code",
   "execution_count": null,
   "id": "5c38f3c4-a9c5-4cd9-8715-b376d5d7d6dd",
   "metadata": {},
   "outputs": [],
   "source": [
    "Ans. The ? character can either mean “match zero or one of the preceding group”."
   ]
  },
  {
   "cell_type": "code",
   "execution_count": null,
   "id": "207a0c54-8a3e-4649-a320-ffca752687bc",
   "metadata": {},
   "outputs": [],
   "source": [
    "\n",
    "batRegex = re.compile(r'Bat(wo)?man')\n",
    "mo1 = batRegex.search('The Adventures of Batman')\n",
    "mo1.group()\n",
    "     \n"
   ]
  },
  {
   "cell_type": "code",
   "execution_count": null,
   "id": "94d72211-c709-4a2c-8972-e450eec46b0e",
   "metadata": {},
   "outputs": [],
   "source": [
    "'Batman'"
   ]
  },
  {
   "cell_type": "code",
   "execution_count": null,
   "id": "e8ad2483-fdea-459a-9e8c-e7f187b1a120",
   "metadata": {},
   "outputs": [],
   "source": [
    "\n",
    "mo2 = batRegex.search('The Adventures of Batwoman')\n",
    "mo2.group()\n",
    "     "
   ]
  },
  {
   "cell_type": "code",
   "execution_count": null,
   "id": "79e50823-1f52-41fb-a6b6-8d3bac0542cf",
   "metadata": {},
   "outputs": [],
   "source": [
    "'Batwoman'"
   ]
  },
  {
   "cell_type": "code",
   "execution_count": null,
   "id": "b349990e-00fc-4bdc-b75b-39a13f535e7d",
   "metadata": {},
   "outputs": [],
   "source": [
    "10.In regular expressions, what is the difference between the + and * characters?"
   ]
  },
  {
   "cell_type": "code",
   "execution_count": null,
   "id": "b71da792-db21-42b1-b334-ed1fa7aced81",
   "metadata": {},
   "outputs": [],
   "source": [
    "Ans. The + matches one or more. The * matches zero or more"
   ]
  },
  {
   "cell_type": "code",
   "execution_count": null,
   "id": "b8d74365-3e3b-48f5-a918-4af7c4e33839",
   "metadata": {},
   "outputs": [],
   "source": [
    "11. What is the difference between {4} and {4,5} in regular expression?"
   ]
  },
  {
   "cell_type": "code",
   "execution_count": null,
   "id": "88e0c7a3-c477-4e11-949d-401a668c5b89",
   "metadata": {},
   "outputs": [],
   "source": [
    "Ans. The {3} matches exactly three instances of the preceding group.\n",
    "\n",
    "The {3,5} matches between three and five instances"
   ]
  },
  {
   "cell_type": "code",
   "execution_count": null,
   "id": "9583c63b-7de4-4e11-b2d6-083978a61d54",
   "metadata": {},
   "outputs": [],
   "source": [
    "12. What do you mean by the \\d, \\w, and \\s shorthand character classes signify in regular\n",
    "expressions?"
   ]
  },
  {
   "cell_type": "code",
   "execution_count": null,
   "id": "58898541-27ec-4344-a125-e882b950516b",
   "metadata": {},
   "outputs": [],
   "source": [
    "Ans .The \\d, stands for single digit, Any numeric digit from 0 to 9\n",
    "\n",
    "\\w, stands for single word, Any letter, numeric digit, or the underscore character. (Think of this as matching “word” characters.) \\s stands for single space character, Any space, tab, or newline character. (Think of this as matching “space” characters.)\n",
    "\n"
   ]
  },
  {
   "cell_type": "code",
   "execution_count": null,
   "id": "bf00fb53-5176-4184-83db-d48a74abddd5",
   "metadata": {},
   "outputs": [],
   "source": [
    "13. What do means by \\D, \\W, and \\S shorthand character classes signify in regular expressions?"
   ]
  },
  {
   "cell_type": "code",
   "execution_count": null,
   "id": "726fd786-26cc-44ff-8166-32db71808b10",
   "metadata": {},
   "outputs": [],
   "source": [
    "ns. \\D - > Any character that is not a numeric digit from 0 to 9.\n",
    "\n",
    "\\W - > Any character that is not a letter, numeric digit, or the underscore character.\n",
    "\\S - > Any character that is not a space, tab, or newline."
   ]
  },
  {
   "cell_type": "code",
   "execution_count": null,
   "id": "6632ed8c-7910-41e7-8539-e0758353ad21",
   "metadata": {},
   "outputs": [],
   "source": [
    "14. What is the difference between .*? and .*?"
   ]
  },
  {
   "cell_type": "code",
   "execution_count": null,
   "id": "e7196b5a-4647-4f30-8ece-2f3cc20d2908",
   "metadata": {},
   "outputs": [],
   "source": [
    "Ans - The dot-star uses greedy mode: It will always try to match as much text as possible.\n",
    "\n",
    ".? - To match any and all text in a non-greedy fashion, use the dot, star, and question mark (.?). Like with braces, the question mark tells Python to match in a non-greedy way."
   ]
  },
  {
   "cell_type": "code",
   "execution_count": null,
   "id": "68a2aee8-bae4-4369-a676-dfb4a1c69e49",
   "metadata": {},
   "outputs": [],
   "source": [
    "\n",
    "\n",
    "greedyRegex = re.compile(r'<.*>')\n",
    "mo = greedyRegex.search(' for dinner.>')\n",
    "mo.group()\n",
    "     \n"
   ]
  },
  {
   "cell_type": "code",
   "execution_count": null,
   "id": "0572e041-d42f-45b4-bd8b-b04f0e1f2b44",
   "metadata": {},
   "outputs": [],
   "source": [
    "'<To serve man> for dinner.>'"
   ]
  },
  {
   "cell_type": "code",
   "execution_count": null,
   "id": "22229d95-57dd-4731-9c47-eb45d55b95ff",
   "metadata": {},
   "outputs": [],
   "source": [
    "\n",
    "\n",
    "nongreedyRegex = re.compile(r'<.*?>')\n",
    "mo = nongreedyRegex.search(' for dinner.>')\n",
    "mo.group()\n",
    "     \n"
   ]
  },
  {
   "cell_type": "code",
   "execution_count": null,
   "id": "318df886-334f-41bd-9350-5d955fe090f2",
   "metadata": {},
   "outputs": [],
   "source": [
    "'<To serve man>'\n"
   ]
  },
  {
   "cell_type": "code",
   "execution_count": null,
   "id": "a2732c14-1f98-4d52-89cc-d318591eaf1c",
   "metadata": {},
   "outputs": [],
   "source": [
    "15. What is the syntax for matching both numbers and lowercase letters with a character class?"
   ]
  },
  {
   "cell_type": "code",
   "execution_count": null,
   "id": "648a5354-ef23-4e9a-a71e-9af1cb5ed10f",
   "metadata": {},
   "outputs": [],
   "source": [
    "Ans. Either [0-9a-z] or [a-z0-9]"
   ]
  },
  {
   "cell_type": "code",
   "execution_count": null,
   "id": "17a46337-59d6-43a0-a6c2-f24df6c8020f",
   "metadata": {},
   "outputs": [],
   "source": [
    "\n",
    "reg1 = re.compile(r'[0-9a-z]')\n",
    "reg2 = re.compile(r'[a-z0-9]')\n",
    "\n",
    "mo1 = reg1.search('100 times I am Reading  this for 100 th time')\n",
    "mo1.group()\n",
    "     "
   ]
  },
  {
   "cell_type": "code",
   "execution_count": null,
   "id": "9905e47b-8924-4e09-bc33-b4d70498ea74",
   "metadata": {},
   "outputs": [],
   "source": [
    "'1'\n"
   ]
  },
  {
   "cell_type": "code",
   "execution_count": null,
   "id": "670b061f-f6b4-4998-816a-3da586be02ed",
   "metadata": {},
   "outputs": [],
   "source": [
    "\n",
    "reg2 = re.compile(r'[a-z0-9]')\n",
    "\n",
    "mo1 = reg2.search('times I am Reading  this for 100 th time')\n",
    "mo1.group()\n",
    "     \n"
   ]
  },
  {
   "cell_type": "code",
   "execution_count": null,
   "id": "5d810fbe-0501-4a62-b802-dd447108f993",
   "metadata": {},
   "outputs": [],
   "source": [
    "'t'"
   ]
  },
  {
   "cell_type": "code",
   "execution_count": null,
   "id": "6ed0777d-47c1-4360-8a94-aa9786175472",
   "metadata": {},
   "outputs": [],
   "source": [
    "16. What is the procedure for making a normal expression in regax case insensitive?"
   ]
  },
  {
   "cell_type": "code",
   "execution_count": null,
   "id": "6ba88bc2-406d-4d4d-89e2-b0d3be4b444d",
   "metadata": {},
   "outputs": [],
   "source": [
    "Ans. Passing re.I or re.IGNORECASE as the second argument to re.compile() will make the matching case insensitive"
   ]
  },
  {
   "cell_type": "code",
   "execution_count": null,
   "id": "ba789e0d-3f6d-44ef-b3f0-a6537790f771",
   "metadata": {},
   "outputs": [],
   "source": [
    "casesen = re.compile(r'machine', re.I)\n",
    "casesen.search('Machine learning is part of data science').group()"
   ]
  },
  {
   "cell_type": "code",
   "execution_count": null,
   "id": "e769a7cc-3847-4642-a53a-910e56bda004",
   "metadata": {},
   "outputs": [],
   "source": [
    "'Machine'\n"
   ]
  },
  {
   "cell_type": "code",
   "execution_count": null,
   "id": "ef92df3d-0ed7-45c3-bb9c-b858f6a1e111",
   "metadata": {},
   "outputs": [],
   "source": [
    "casesen.search('MACHINE is learning.').group()\n"
   ]
  },
  {
   "cell_type": "code",
   "execution_count": null,
   "id": "91613dbc-3b99-4cfd-9366-57b6d71fff8d",
   "metadata": {},
   "outputs": [],
   "source": [
    "'MACHINE'\n"
   ]
  },
  {
   "cell_type": "code",
   "execution_count": null,
   "id": "ae5af2ca-8d1b-491c-959e-45f627d381df",
   "metadata": {},
   "outputs": [],
   "source": [
    "17. What does the . character normally match? What does it match if re.DOTALL is passed as 2nd\n",
    "argument in re.compile()?"
   ]
  },
  {
   "cell_type": "code",
   "execution_count": null,
   "id": "28e311eb-e253-42fa-a445-1ddb870de845",
   "metadata": {},
   "outputs": [],
   "source": [
    "The . character normally matches any character except the newline character.\n",
    "\n",
    "If re.DOTALL is passed as the second argument to re.compile(), then the dot will also match newline characters."
   ]
  },
  {
   "cell_type": "code",
   "execution_count": null,
   "id": "fb41cdc5-ce02-4d75-bc86-9902ae955b5a",
   "metadata": {},
   "outputs": [],
   "source": [
    "18. If numReg = re.compile(r&#39;\\d+&#39;), what will numRegex.sub(&#39;X&#39;, &#39;11 drummers, 10 pipers, five rings, 4\n",
    "hen&#39;) return?"
   ]
  },
  {
   "cell_type": "code",
   "execution_count": null,
   "id": "7a6d25b2-6b78-4f4b-b777-ae0e934074fa",
   "metadata": {},
   "outputs": [],
   "source": [
    "numRegex = re.compile(r'\\d+')\n",
    "mo = numRegex.sub('X', '11 drummers, 10 pipers, five rings, 4 hen')\n",
    "mo\n",
    "     "
   ]
  },
  {
   "cell_type": "code",
   "execution_count": null,
   "id": "19e7bad3-f56d-40a9-b5c0-8c53a9450db3",
   "metadata": {},
   "outputs": [],
   "source": [
    "'X drummers, X pipers, five rings, X hen'"
   ]
  },
  {
   "cell_type": "code",
   "execution_count": null,
   "id": "aad1720a-418a-4bc4-9d7f-edaa76c431e2",
   "metadata": {},
   "outputs": [],
   "source": [
    "19. What does passing re.VERBOSE as the 2nd argument to re.compile() allow to do?"
   ]
  },
  {
   "cell_type": "code",
   "execution_count": null,
   "id": "b11fb424-bd10-4c29-9206-9d7344d038af",
   "metadata": {},
   "outputs": [],
   "source": [
    "Ans. The re.VERBOSE argument allows you to add whitespace and comments to the string passed to re.compile()"
   ]
  },
  {
   "cell_type": "code",
   "execution_count": null,
   "id": "9f4c67db-3548-4721-b1c0-9e0fb4e25d09",
   "metadata": {},
   "outputs": [],
   "source": [
    "20. How would you write a regex that match a number with comma for every three digits? It must\n",
    "match the given following:\n",
    "&#39;42&#39;\n",
    "&#39;1,234&#39;\n",
    "&#39;6,368,745&#39;\n",
    "\n",
    "but not the following:\n",
    "&#39;12,34,567&#39; (which has only two digits between the commas)\n",
    "&#39;1234&#39; (which lacks commas)"
   ]
  },
  {
   "cell_type": "code",
   "execution_count": null,
   "id": "28f1c1cc-a995-4b7e-bac9-f65a93f31bb4",
   "metadata": {},
   "outputs": [],
   "source": [
    "\n",
    "reg1 = re.compile(r'^\\d{1,3}(,\\d{3})*$')\n",
    "mo1 = reg1.search('42')\n",
    "mo1.group()\n",
    "     "
   ]
  },
  {
   "cell_type": "code",
   "execution_count": null,
   "id": "07d3b067-a76a-46dc-b90f-b2c0bf34fd1c",
   "metadata": {},
   "outputs": [],
   "source": [
    "'42'\n"
   ]
  },
  {
   "cell_type": "code",
   "execution_count": null,
   "id": "a8291ca2-b027-4b2b-ae4d-326541623116",
   "metadata": {},
   "outputs": [],
   "source": [
    "\n",
    "reg1 = re.compile(r'^\\d{1,3}(,\\d{3})*$')\n",
    "mo1 = reg1.search('1,234')\n",
    "mo1.group()\n",
    "     "
   ]
  },
  {
   "cell_type": "code",
   "execution_count": null,
   "id": "25b9a3a6-5f28-4245-b349-8c7ea307b232",
   "metadata": {},
   "outputs": [],
   "source": [
    "'1,234'\n"
   ]
  },
  {
   "cell_type": "code",
   "execution_count": null,
   "id": "2ab8e8b6-b7e7-43bf-a17e-3ef968041fd3",
   "metadata": {},
   "outputs": [],
   "source": [
    "\n",
    "reg1 = re.compile(r'^\\d{1,3}(,\\d{3})*$')\n",
    "mo1 = reg1.search('6,368,745')\n",
    "mo1.group()\n",
    "     \n"
   ]
  },
  {
   "cell_type": "code",
   "execution_count": null,
   "id": "93705f6d-e1fd-43e1-8109-4e7d08a46d66",
   "metadata": {},
   "outputs": [],
   "source": [
    "'6,368,745'\n"
   ]
  },
  {
   "cell_type": "code",
   "execution_count": null,
   "id": "1c8dfa29-4182-4be1-8ebc-d5c98b0a0f97",
   "metadata": {},
   "outputs": [],
   "source": [
    "21. How would you write a regex that matches the full name of someone whose last name is\n",
    "Watanabe? You can assume that the first name that comes before it will always be one word that\n",
    "begins with a capital letter. The regex must match the following:"
   ]
  },
  {
   "cell_type": "code",
   "execution_count": null,
   "id": "920c52e5-144a-4fb4-ab30-9be9bb18a060",
   "metadata": {},
   "outputs": [],
   "source": [
    "\n",
    "name = re.compile(r'[A-Z][a-z]*\\sWatanabe')\n",
    "reg1 = re.compile(r'^\\d{1,3}(,\\d{haruto Watanabe3})*$')\n",
    "mo1 = name.search('Haruto Watanabe')\n",
    "mo1.group()\n",
    "     "
   ]
  },
  {
   "cell_type": "code",
   "execution_count": null,
   "id": "5306b0ab-ad9f-4a27-bd6c-17c5b3ef0163",
   "metadata": {},
   "outputs": [],
   "source": [
    "'Haruto Watanabe'\n"
   ]
  },
  {
   "cell_type": "code",
   "execution_count": null,
   "id": "9d0b7aaf-213b-46bd-a7d2-306afac75275",
   "metadata": {},
   "outputs": [],
   "source": [
    "\n",
    "name = re.compile(r'[A-Z][a-z]*\\sWatanabe')\n",
    "reg1 = re.compile(r'^\\d{1,3}(,\\d{3})*$')\n",
    "mo1 = name.search('Alice Watanabe')\n",
    "mo1.group()\n",
    "     "
   ]
  },
  {
   "cell_type": "code",
   "execution_count": null,
   "id": "68b870cd-7277-4033-bed9-3afbbda36a46",
   "metadata": {},
   "outputs": [],
   "source": [
    "'Alice Watanabe'\n"
   ]
  },
  {
   "cell_type": "code",
   "execution_count": null,
   "id": "5a9e6185-1c6f-41a4-84fe-b4eff1ad1bb2",
   "metadata": {},
   "outputs": [],
   "source": [
    "\n",
    "name = re.compile(r'[A-Z][a-z]*\\sWatanabe')\n",
    "reg1 = re.compile(r'^\\d{1,3}(,\\d{3})*$')\n",
    "mo1 = name.search('Robocop Watanabe')\n",
    "mo1.group()\n",
    "     "
   ]
  },
  {
   "cell_type": "code",
   "execution_count": null,
   "id": "ba1ea216-bae4-47d5-a310-880b8e64df56",
   "metadata": {},
   "outputs": [],
   "source": [
    "'Robocop Watanabe'\n"
   ]
  },
  {
   "cell_type": "code",
   "execution_count": null,
   "id": "b60a7a39-a02a-4da6-8a49-111171752d4d",
   "metadata": {},
   "outputs": [],
   "source": [
    "22. How would you write a regex that matches a sentence where the first word is either Alice, Bob,\n",
    "or Carol; the second word is either eats, pets, or throws; the third word is apples, cats, or baseballs;\n",
    "and the sentence ends with a period? This regex should be case-insensitive. It must match the\n",
    "following:"
   ]
  },
  {
   "cell_type": "code",
   "execution_count": null,
   "id": "d8e74da4-e577-4db8-b8f8-17736a1f95e7",
   "metadata": {},
   "outputs": [],
   "source": [
    "\n",
    "name = re.compile(r'(Alice|Bob|Carol)\\s(eats|pets|throws)\\s(apples|cats|baseballs)\\.', re.IGNORECASE)\n",
    "\n",
    "mo1 = name.search('Alice eats apples.')\n",
    "mo1.group()\n",
    "     "
   ]
  },
  {
   "cell_type": "code",
   "execution_count": null,
   "id": "15623275-4de4-431b-8ff6-2424186e8b65",
   "metadata": {},
   "outputs": [],
   "source": [
    "'Alice eats apples.'\n"
   ]
  },
  {
   "cell_type": "code",
   "execution_count": null,
   "id": "010c4e02-5c2f-4a05-8cab-ae88567c94f9",
   "metadata": {},
   "outputs": [],
   "source": [
    "\n",
    "name = re.compile(r'(Alice|Bob|Carol)\\s(eats|pets|throws)\\s(apples|cats|baseballs)\\.', re.IGNORECASE)\n",
    "\n",
    "mo1 = name.search('Carol throws baseballs.')\n",
    "mo1.group()\n",
    "     \n"
   ]
  },
  {
   "cell_type": "code",
   "execution_count": null,
   "id": "43c7e775-1832-4eeb-88c4-b8cd27890d29",
   "metadata": {},
   "outputs": [],
   "source": [
    "'Carol throws baseballs.'\n"
   ]
  }
 ],
 "metadata": {
  "kernelspec": {
   "display_name": "Python 3 (ipykernel)",
   "language": "python",
   "name": "python3"
  },
  "language_info": {
   "codemirror_mode": {
    "name": "ipython",
    "version": 3
   },
   "file_extension": ".py",
   "mimetype": "text/x-python",
   "name": "python",
   "nbconvert_exporter": "python",
   "pygments_lexer": "ipython3",
   "version": "3.10.6"
  }
 },
 "nbformat": 4,
 "nbformat_minor": 5
}
